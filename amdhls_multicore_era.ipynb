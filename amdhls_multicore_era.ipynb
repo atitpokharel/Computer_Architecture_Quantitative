{
 "cells": [
  {
   "cell_type": "code",
   "execution_count": 12,
   "metadata": {},
   "outputs": [],
   "source": [
    "def amdahl_multicore_law(f, n, r, type='symmetric'):\n",
    "    perf_r = r ** 0.6 \n",
    "    if type == 'symmetric':\n",
    "        num_cores = n // r  \n",
    "        seq_perf = perf_r  # Performance of a single core\n",
    "        par_perf = num_cores * perf_r  # Parallel\n",
    "        return 1 / ((1 - f) / seq_perf + (r*f) / par_perf)\n",
    "    \n",
    "    elif type == 'asymmetric':\n",
    "        seq_perf = perf_r  # large core\n",
    "        par_perf = seq_perf + (n - r)  # big core + small cores\n",
    "        return 1 / ((1 - f) / seq_perf + f / par_perf)\n",
    "    \n",
    "    elif type == 'dynamic':\n",
    "        seq_perf = perf_r  # large core in sequential mode\n",
    "        par_perf = n  # all cores for parallel execution\n",
    "        return 1 / ((1 - f) / seq_perf + f / par_perf)\n",
    "    "
   ]
  },
  {
   "cell_type": "code",
   "execution_count": 15,
   "metadata": {},
   "outputs": [
    {
     "name": "stdout",
     "output_type": "stream",
     "text": [
      "a: 8.767123287671234\n",
      "b: 9.700586025666547\n",
      "c: 7.068912953827907\n",
      "d: 27.90258523217027\n",
      "e: 30.294807483150997\n"
     ]
    }
   ],
   "source": [
    "f = 0.90  \n",
    "n = 64  \n",
    "\n",
    "speedup_symmetric_1 = amdahl_multicore_law(f, n, r=1, type='symmetric')\n",
    "print(f\"a: {speedup_symmetric_1}\")\n",
    "\n",
    "speedup_symmetric_2 = amdahl_multicore_law(f, n, r=2, type='symmetric')\n",
    "print(f\"b: {speedup_symmetric_2}\")\n",
    "\n",
    "speedup_symmetric_4 = amdahl_multicore_law(f, n, r=4, type='symmetric')\n",
    "print(f\"c: {speedup_symmetric_4}\")\n",
    "\n",
    "speedup_asymmetric = amdahl_multicore_law(f, n, r=16, type='asymmetric')\n",
    "print(f\"d: {speedup_asymmetric}\")\n",
    "\n",
    "speedup_dynamic = amdahl_multicore_law(f, n, r=16, type='dynamic')\n",
    "print(f\"e: {speedup_dynamic}\")\n"
   ]
  },
  {
   "cell_type": "code",
   "execution_count": null,
   "metadata": {},
   "outputs": [],
   "source": []
  },
  {
   "cell_type": "code",
   "execution_count": null,
   "metadata": {},
   "outputs": [],
   "source": [
    "\"\"\"\n",
    "    Compute speedup using Amdahl's Law for multicore architectures.\n",
    "    \n",
    "    Parameters:\n",
    "    f : float\n",
    "        Fraction of execution time that is parallelizable.\n",
    "    n : int\n",
    "        Total number of BCEs (Base Core Equivalents).\n",
    "    r : int\n",
    "        Number of BCEs per core (determines core size).\n",
    "    type : str\n",
    "        Type of multicore architecture. Options:\n",
    "        - 'symmetric': All cores are of equal size.\n",
    "        - 'asymmetric': One large core of r BCEs, remaining (n-r) single BCE cores.\n",
    "        - 'dynamic': One large r-BCE core for sequential execution, all n BCEs used for parallel execution.\n",
    "    \n",
    "    Returns:\n",
    "    float\n",
    "        The computed speedup.\n",
    "    \"\"\""
   ]
  },
  {
   "cell_type": "code",
   "execution_count": null,
   "metadata": {},
   "outputs": [],
   "source": []
  },
  {
   "cell_type": "code",
   "execution_count": null,
   "metadata": {},
   "outputs": [],
   "source": []
  },
  {
   "cell_type": "code",
   "execution_count": null,
   "metadata": {},
   "outputs": [],
   "source": []
  },
  {
   "cell_type": "code",
   "execution_count": null,
   "metadata": {},
   "outputs": [],
   "source": []
  },
  {
   "cell_type": "code",
   "execution_count": null,
   "metadata": {},
   "outputs": [],
   "source": []
  }
 ],
 "metadata": {
  "kernelspec": {
   "display_name": "Python 3",
   "language": "python",
   "name": "python3"
  },
  "language_info": {
   "codemirror_mode": {
    "name": "ipython",
    "version": 3
   },
   "file_extension": ".py",
   "mimetype": "text/x-python",
   "name": "python",
   "nbconvert_exporter": "python",
   "pygments_lexer": "ipython3",
   "version": "3.13.0"
  }
 },
 "nbformat": 4,
 "nbformat_minor": 2
}
